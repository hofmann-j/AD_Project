{
 "cells": [
  {
   "cell_type": "code",
   "execution_count": null,
   "id": "aed88258-62f0-4488-a499-5eb8067c4dc2",
   "metadata": {},
   "outputs": [],
   "source": [
    "#PROJET analyse de Données: US 2020 Elections"
   ]
  },
  {
   "cell_type": "code",
   "execution_count": null,
   "id": "b9156ef8-811a-41ea-9f76-951f2dee396e",
   "metadata": {},
   "outputs": [],
   "source": [
    "import pandas as pd\n",
    "import numpy as np\n",
    "import prince\n",
    "\n",
    "from sklearn.decomposition import PCA\n",
    "from sklearn.preprocessing import StandardScaler\n",
    "from sklearn.cluster import KMeans\n",
    "from sklearn.metrics import silhouette_score\n",
    "from matplotlib import colors as mcol\n",
    "from yellowbrick.cluster import KElbowVisualizer, SilhouetteVisualizer\n",
    "import plotly.figure_factory as ff\n",
    "\n",
    "import matplotlib.pyplot as plt\n",
    "import seaborn as sns\n",
    "import csv"
   ]
  },
  {
   "cell_type": "code",
   "execution_count": null,
   "id": "04d9b153-86e1-499f-90ef-a584b046adff",
   "metadata": {},
   "outputs": [],
   "source": [
    "#PAGE DE REFERENCE POUR LES CARTES:    https://plotly.com/python/tile-county-choropleth/\n",
    "#ANCIENNE PAGE:     https://plotly.com/python/county-choropleth/"
   ]
  },
  {
   "cell_type": "code",
   "execution_count": null,
   "id": "dd9ab613-9b20-48ca-be18-12a982f30329",
   "metadata": {},
   "outputs": [],
   "source": [
    "from urllib.request import urlopen\n",
    "import json\n",
    "with urlopen('https://raw.githubusercontent.com/plotly/datasets/master/geojson-counties-fips.json') as response:\n",
    "    counties = json.load(response)"
   ]
  },
  {
   "cell_type": "code",
   "execution_count": null,
   "id": "4858d3e1-19b1-44d0-8f78-2f59d9dc6f2e",
   "metadata": {},
   "outputs": [],
   "source": [
    "import plotly.express as px"
   ]
  },
  {
   "cell_type": "code",
   "execution_count": null,
   "id": "065aec0c-c715-4520-bf76-ad6866532a61",
   "metadata": {},
   "outputs": [],
   "source": [
    "US_data = pd.read_csv(\"./data.csv\",sep=None, engine='python')\n",
    "\n",
    "US_data = US_data.drop(US_data.columns[0], axis=1)\n",
    "\n",
    "US_data.head()"
   ]
  },
  {
   "cell_type": "code",
   "execution_count": null,
   "id": "4e28efc1-d246-4cf8-8418-effad8a1bf8f",
   "metadata": {},
   "outputs": [],
   "source": [
    "dem = np.array(US_data[\"Democrat vote raw\"])\n",
    "rep = np.array(US_data[\"Republican vote raw\"])\n",
    "\n",
    "result = np.where(dem > rep, 'Democrat', 'Republican')\n",
    "\n",
    "US_data['Parti'] = result\n",
    "\n",
    "US_data.head()"
   ]
  },
  {
   "cell_type": "code",
   "execution_count": null,
   "id": "c2dbccd8-5a68-4f8a-95d9-1b70ef18760f",
   "metadata": {},
   "outputs": [],
   "source": [
    "#Le code FIPS est un code d'identification des contés aux US, on va l'utiliser pour afficher sur une carte des Etats-Unis les résultats des clustering. \n",
    "#On doit donc ajouter une colonne correspondant à ce code dans le data-set\n",
    "#Cependant, la carte des USA que j'ai trouvée ne représente que les contés sur le territoire principal des USA (pas d'alaska, etc..)\n",
    "#Il faudra donc en tenir compte dans la visualisation\n",
    "\n",
    "fips_data = pd.read_csv(\"./national_county.txt\", header=None, dtype=str)\n",
    "\n",
    "# Assign column names based on Census format\n",
    "fips_data.columns = [\"State Abbr\", \"State FIPS Code\", \"County FIPS Code\", \"County Name\", \"FIPS Class Code\"]\n",
    "\n",
    "# Create a full FIPS code column (State + County)\n",
    "fips_data[\"FIPS\"] = fips_data[\"State FIPS Code\"] + fips_data[\"County FIPS Code\"]\n",
    "\n",
    "# Drop unnecessary columns\n",
    "fips_data = fips_data[[\"State Abbr\", \"County Name\", \"FIPS\"]]\n",
    "\n",
    "# Convert to lowercase for easy matching\n",
    "fips_data[\"County Name\"] = fips_data[\"County Name\"].str.lower().str.strip().str.replace(r\"\\s+\", \"\", regex=True)\n",
    "fips_data[\"State Abbr\"] = fips_data[\"State Abbr\"].str.lower().str.strip()"
   ]
  },
  {
   "cell_type": "code",
   "execution_count": null,
   "id": "b0c41e39-f406-4e4e-b91b-53c831e5a1b4",
   "metadata": {},
   "outputs": [],
   "source": [
    "US_data[\"State\"] = US_data[\"State\"].str.lower().str.strip().str.replace(r\"\\s+\", \"\", regex=True)\n",
    "US_data[\"County\"] = US_data[\"County\"].str.lower().str.strip().str.replace(r\"\\s+\", \"\", regex=True)\n",
    "\n",
    "# Load a mapping of state names to state abbreviations\n",
    "state_abbr_url = \"https://raw.githubusercontent.com/jasonong/List-of-US-States/master/states.csv\"\n",
    "state_abbr = pd.read_csv(state_abbr_url)\n",
    "state_abbr.columns = [\"State\", \"Abbreviation\"]\n",
    "\n",
    "# Convert to lowercase for easy matching\n",
    "state_abbr[\"State\"] = state_abbr[\"State\"].str.replace(r\"\\s+\", \"\", regex=True).str.lower().str.strip()\n",
    "state_abbr[\"Abbreviation\"] = state_abbr[\"Abbreviation\"].str.lower().str.strip()\n"
   ]
  },
  {
   "cell_type": "code",
   "execution_count": null,
   "id": "f2f9b003-7186-4be5-9b4d-67abcf34e4d7",
   "metadata": {},
   "outputs": [],
   "source": [
    "print(np.unique(US_data[['State']]))\n",
    "print(np.unique(fips_data[['State Abbr']]))\n",
    "print(np.unique(state_abbr[[\"Abbreviation\"]]))\n",
    "print(np.unique(state_abbr[[\"State\"]]))"
   ]
  },
  {
   "cell_type": "code",
   "execution_count": null,
   "id": "98c91f29-e331-4608-8eb7-cd652d8736ba",
   "metadata": {},
   "outputs": [],
   "source": [
    "# Merge state names with abbreviations\n",
    "US_data = US_data.merge(state_abbr, left_on=\"State\", right_on=\"State\", how=\"left\")\n",
    "\n",
    "# Merge with FIPS data\n",
    "US_data = US_data.merge(fips_data, left_on=[\"Abbreviation\", \"County\"], right_on=[\"State Abbr\", \"County Name\"], how=\"left\")\n",
    "\n",
    "# Drop extra columns\n",
    "US_data = US_data.drop(columns=[\"State Abbr\", \"County Name\", \"Abbreviation\"])"
   ]
  },
  {
   "cell_type": "code",
   "execution_count": null,
   "id": "22d0f714-8673-4f39-b9b5-d564a22b9224",
   "metadata": {},
   "outputs": [],
   "source": [
    "US_data.head()"
   ]
  },
  {
   "cell_type": "code",
   "execution_count": null,
   "id": "4967bea9-d6ed-427d-b1c9-e25077e5832e",
   "metadata": {},
   "outputs": [],
   "source": [
    "missing_fips = US_data[US_data['FIPS'].isna()]\n",
    "print(missing_fips[['State','County']])"
   ]
  },
  {
   "cell_type": "code",
   "execution_count": null,
   "id": "fb466f27-9c00-4bb9-a17c-a4e9bd7fc443",
   "metadata": {},
   "outputs": [],
   "source": [
    "#remplissage main:\n",
    "\n",
    "#US_data[US_data['FIPS'].isna()]['FIPS'] = [02063,02066,02158,02195,46102]"
   ]
  },
  {
   "cell_type": "code",
   "execution_count": null,
   "id": "552a1401-acfd-49b3-9128-2f8a60337d23",
   "metadata": {},
   "outputs": [],
   "source": [
    "# Remplacer les valeurs \"-\" par NaN dans l'ensemble du DataFrame\n",
    "US_data.replace(\"-\", np.nan, inplace=True)\n",
    "\n",
    "# Supprimer les lignes avec des NaN dans toutes les colonnes\n",
    "US_data.dropna(inplace=True)"
   ]
  },
  {
   "cell_type": "code",
   "execution_count": null,
   "id": "f11b1abe-6a30-4815-970a-662320661858",
   "metadata": {},
   "outputs": [],
   "source": [
    "# Nettoyage des colonnes de pourcentages (enlève les % et les convertis en pourcentage)\n",
    "\n",
    "colonnes_pourcentages = [\"Less than 9th grade\",\"9th to 12th grade\",\"HS graduate and eq\",\"College,No Degree\",\"Associates Degree\",\"Bachelors Degree\",\"Graduate or professional degree\"]\n",
    "\n",
    "US_data[colonnes_pourcentages] = US_data[colonnes_pourcentages].replace('%', '', regex=True)\n",
    "US_data[colonnes_pourcentages] = US_data[colonnes_pourcentages].apply(pd.to_numeric) / 100\n",
    "\n",
    "# Suppression des virgules dans les colonnes Median income et Mean income\n",
    "US_data['Median income'] = US_data['Median income'].astype(str).str.replace(\",\", \"\").astype(float)\n",
    "US_data['Mean income'] = US_data['Mean income'].astype(str).str.replace(\",\", \"\").astype(float)\n",
    "\n",
    "# Affichage des premières lignes pour vérifier\n",
    "pd.set_option('display.max_columns', None) \n",
    "US_data.head()"
   ]
  },
  {
   "cell_type": "code",
   "execution_count": null,
   "id": "9a01006d-f97e-4cf9-96fb-70e1de54be98",
   "metadata": {},
   "outputs": [],
   "source": [
    "fig = sns.catplot(data=US_data, x='Parti', kind='count')\n",
    "#fig.set_xticklabels([\"Men\", \"Women\", \"Children\"])\n",
    "\n",
    "plt.xlabel('')\n",
    "plt.ylabel('')\n",
    "plt.title('Nombre de county majoritairement républicains ou démocrates respectivement')\n",
    "plt.show()\n",
    "\n",
    "# --- #\n",
    "print('')"
   ]
  },
  {
   "cell_type": "code",
   "execution_count": null,
   "id": "96ae2a53-caff-4e11-ae28-b118152551a5",
   "metadata": {},
   "outputs": [],
   "source": [
    "data_democrat = pd.to_numeric(US_data.loc[US_data['Parti'] == 'Democrat', 'Less than 9th grade'], errors='coerce').dropna()\n",
    "data_republican = pd.to_numeric(US_data.loc[US_data['Parti'] == 'Republican', 'Less than 9th grade'], errors='coerce').dropna()\n",
    "\n",
    "fig, axs = plt.subplots(1, 2, figsize=(12, 6))\n",
    "\n",
    "axs[0].boxplot(data_democrat)\n",
    "axs[1].boxplot(data_republican)\n",
    "\n",
    "fig.suptitle('Boxplot % Less than 9th grade', fontsize=16)\n",
    "\n",
    "axs[0].boxplot(US_data.loc[US_data['Parti'] == 'Democrat', 'Less than 9th grade'])\n",
    "axs[0].set_title('Democrat')\n",
    "\n",
    "axs[1].boxplot(US_data.loc[US_data['Parti'] == 'Republican', 'Less than 9th grade'])\n",
    "axs[1].set_title('Republican')\n",
    "\n",
    "plt.subplots_adjust(wspace=0.4)\n",
    "\n",
    "plt.show()"
   ]
  },
  {
   "cell_type": "code",
   "execution_count": null,
   "id": "54322bf0-b95b-4c2a-a1f2-9d4af4f168c2",
   "metadata": {},
   "outputs": [],
   "source": [
    "fig, axs = plt.subplots(1, 2, figsize=(12, 6))\n",
    "\n",
    "fig.suptitle('Boxplot % HS graduate and eq', fontsize=16)\n",
    "\n",
    "axs[0].boxplot(US_data.loc[US_data['Parti'] == 'Democrat', 'HS graduate and eq'])\n",
    "axs[0].set_title('Democrat')\n",
    "\n",
    "axs[1].boxplot(US_data.loc[US_data['Parti'] == 'Republican', 'HS graduate and eq'])\n",
    "axs[1].set_title('Republican')\n",
    "\n",
    "plt.subplots_adjust(wspace=0.4)\n",
    "\n",
    "plt.show()"
   ]
  },
  {
   "cell_type": "code",
   "execution_count": null,
   "id": "4cfee5c6-2dad-400a-bb6f-de5e7e04a65a",
   "metadata": {},
   "outputs": [],
   "source": [
    "fig, axs = plt.subplots(1, 2, figsize=(12, 6))\n",
    "\n",
    "fig.suptitle('Boxplot % College,No Degree', fontsize=16)\n",
    "\n",
    "axs[0].boxplot(US_data.loc[US_data['Parti'] == 'Democrat', 'College,No Degree'])\n",
    "axs[0].set_title('Democrat')\n",
    "\n",
    "axs[1].boxplot(US_data.loc[US_data['Parti'] == 'Republican', 'College,No Degree'])\n",
    "axs[1].set_title('Republican')\n",
    "\n",
    "plt.subplots_adjust(wspace=0.4)\n",
    "\n",
    "plt.show()"
   ]
  },
  {
   "cell_type": "code",
   "execution_count": null,
   "id": "b91dc247-bcaf-465d-b323-489fd1aa1999",
   "metadata": {},
   "outputs": [],
   "source": [
    "fig, axs = plt.subplots(1, 2, figsize=(12, 6))\n",
    "\n",
    "fig.suptitle('Boxplot % Associates Degree', fontsize=16)\n",
    "\n",
    "axs[0].boxplot(US_data.loc[US_data['Parti'] == 'Democrat', 'Associates Degree'])\n",
    "axs[0].set_title('Democrat')\n",
    "\n",
    "axs[1].boxplot(US_data.loc[US_data['Parti'] == 'Republican', 'Associates Degree'])\n",
    "axs[1].set_title('Republican')\n",
    "\n",
    "plt.subplots_adjust(wspace=0.4)\n",
    "\n",
    "plt.show()"
   ]
  },
  {
   "cell_type": "code",
   "execution_count": null,
   "id": "9a5fed06-4660-4e0e-b6ef-59279865d68e",
   "metadata": {},
   "outputs": [],
   "source": [
    "fig, axs = plt.subplots(1, 2, figsize=(12, 6))\n",
    "\n",
    "fig.suptitle('Boxplot % Bachelors Degree', fontsize=16)\n",
    "\n",
    "axs[0].boxplot(US_data.loc[US_data['Parti'] == 'Democrat', 'Bachelors Degree'])\n",
    "axs[0].set_title('Democrat')\n",
    "\n",
    "axs[1].boxplot(US_data.loc[US_data['Parti'] == 'Republican', 'Bachelors Degree'])\n",
    "axs[1].set_title('Republican')\n",
    "\n",
    "plt.subplots_adjust(wspace=0.4)\n",
    "\n",
    "plt.show()"
   ]
  },
  {
   "cell_type": "code",
   "execution_count": null,
   "id": "9eb8774c-a5e3-4a45-abc6-ecb35af0de74",
   "metadata": {},
   "outputs": [],
   "source": [
    "fig, axs = plt.subplots(1, 2, figsize=(12, 6))\n",
    "\n",
    "fig.suptitle('Boxplot % Graduate or professional degree', fontsize=16)\n",
    "\n",
    "axs[0].boxplot(US_data.loc[US_data['Parti'] == 'Democrat', 'Graduate or professional degree'])\n",
    "axs[0].set_title('Democrat')\n",
    "\n",
    "axs[1].boxplot(US_data.loc[US_data['Parti'] == 'Republican', 'Graduate or professional degree'])\n",
    "axs[1].set_title('Republican')\n",
    "\n",
    "plt.subplots_adjust(wspace=0.4)\n",
    "\n",
    "plt.show()\n",
    "axs[0].boxplot(US_data.loc[US_data['Parti'] == 'Democrat', 'HS graduate and eq'])\n",
    "axs[0].set_title('Democrat')\n",
    "\n",
    "axs[1].boxplot(US_data.loc[US_data['Parti'] == 'Republican', 'HS graduate and eq'])\n",
    "axs[1].set_title('Republican')\n",
    "\n",
    "plt.subplots_adjust(wspace=0.4)\n",
    "\n",
    "plt.show()"
   ]
  },
  {
   "cell_type": "code",
   "execution_count": null,
   "id": "577cef9a-db7b-42f5-b89f-eb97c5965a6f",
   "metadata": {},
   "outputs": [],
   "source": [
    "US_dataACP = US_data.drop(['County', 'State','Parti','FIPS'], axis=1)\n",
    "\n",
    "pd.set_option('display.max_columns', None) \n",
    "US_dataACP.head()\n"
   ]
  },
  {
   "cell_type": "code",
   "execution_count": null,
   "id": "6306b0f6-ecbf-4dc9-9a2f-3c623e14d656",
   "metadata": {},
   "outputs": [],
   "source": [
    "scaler = StandardScaler()\n",
    "US_data_scaled = scaler.fit_transform(US_dataACP)\n",
    "\n",
    "# 2. Application de l'ACP\n",
    "pca_US = PCA()\n",
    "US_data_pca = pca_US.fit_transform(US_data_scaled)  # Corrected"
   ]
  },
  {
   "cell_type": "code",
   "execution_count": null,
   "id": "d20806bf-ab35-4393-ba2d-1169e9457ef7",
   "metadata": {},
   "outputs": [],
   "source": [
    "explained_var_ratio = 100*pca_US.explained_variance_ratio_\n",
    "\n",
    "plt.subplot(1,2,1)\n",
    "n_bars = 20\n",
    "plt.bar(np.arange(1,n_bars+1), explained_var_ratio[:n_bars], color='red')\n",
    "plt.xlabel(\"Number of components\")\n",
    "plt.ylabel(\"Percentage of explained variance\")\n",
    "\n",
    "plt.subplot(1,2,2)\n",
    "plt.plot(np.cumsum(explained_var_ratio),color='yellow')\n",
    "plt.xlabel(\"Number of components\")\n",
    "plt.ylabel(\"Cumulative explained variance\");\n",
    "\n",
    "plt.tight_layout()\n",
    "plt.show()"
   ]
  },
  {
   "cell_type": "code",
   "execution_count": null,
   "id": "520a0525-92a2-479a-8e98-f33f33b2fe3b",
   "metadata": {},
   "outputs": [],
   "source": [
    "box = plt.boxplot(US_data_scaled[:,:10],patch_artist=True)\n",
    "plt.setp(box[\"boxes\"],facecolor=\"yellow\",alpha=.5)\n",
    "plt.title(\"Box plots of the first ten principal components\")\n",
    "plt.tight_layout()\n",
    "plt.show()"
   ]
  },
  {
   "cell_type": "code",
   "execution_count": null,
   "id": "977d8967-62c1-4f2f-8bc1-32cce28884aa",
   "metadata": {},
   "outputs": [],
   "source": [
    "coord1 = pca_US.components_[0] * np.sqrt(pca_US.explained_variance_[0])\n",
    "coord2 = pca_US.components_[1] * np.sqrt(pca_US.explained_variance_[1])\n",
    "coord3 = pca_US.components_[2] * np.sqrt(pca_US.explained_variance_[2])\n",
    "\n",
    "fig = plt.figure(figsize=(8,8))\n",
    "ax = fig.add_subplot(1,1,1)\n",
    "for i, j, nom in zip(coord1, coord2, US_data.columns):\n",
    "    plt.text(i,j,nom,fontsize=10)\n",
    "    plt.arrow(0,0,i,j,color = 'yellow', alpha=0.7,width = 0.0001)\n",
    "\n",
    "plt.axis((-1,1,-1,1))\n",
    "plt.gcf().gca().add_artist(plt.Circle((0,0), radius = 1, color = 'red', fill = False))\n",
    "\n",
    "plt.title('Variables factor map - PCA')\n",
    "plt.xlabel('Principal Component 1')\n",
    "plt.ylabel('Principal Component 2')\n",
    "\n",
    "plt.grid(True)\n",
    "plt.show()"
   ]
  },
  {
   "cell_type": "code",
   "execution_count": null,
   "id": "ab5d57eb-152c-4326-95a9-f6d0517a79c8",
   "metadata": {},
   "outputs": [],
   "source": [
    "fig = plt.figure(figsize=(8,8))\n",
    "ax = fig.add_subplot(1,1,1)\n",
    "for i, j, nom in zip(coord1, coord3, US_data.columns):\n",
    "    plt.text(i,j,nom,fontsize=10)\n",
    "    plt.arrow(0,0,i,j,color = 'yellow', alpha=0.7,width = 0.0001)\n",
    "\n",
    "plt.axis((-1,1,-1,1))\n",
    "plt.gcf().gca().add_artist(plt.Circle((0,0), radius = 1, color = 'red', fill = False))\n",
    "\n",
    "plt.title('Variables factor map - PCA')\n",
    "plt.xlabel('Principal Component 1')\n",
    "plt.ylabel('Principal Component 3')\n",
    "\n",
    "plt.grid(True)\n",
    "plt.show()"
   ]
  },
  {
   "cell_type": "code",
   "execution_count": null,
   "id": "a0ad7181-81b8-4ed9-b229-4ecb4c0e5fe7",
   "metadata": {},
   "outputs": [],
   "source": [
    "US_data_reduced = US_data_pca[:, :10]"
   ]
  },
  {
   "cell_type": "code",
   "execution_count": null,
   "id": "065e2094-355a-4277-ad6b-6bcfefc40dca",
   "metadata": {},
   "outputs": [],
   "source": [
    "#déterminer le nombre de classes pour K-means:\n",
    "\n",
    "#inertia = []\n",
    "#for k in range(1,11):\n",
    "#    kmeans = KMeans(n_clusters=k, init='k-means++', n_init='auto', max_iter=100, random_state=0)\n",
    "#    kmeans.fit(US_data)\n",
    "#    inertia.append(kmeans.inertia_)\n",
    "#inertia = np.array(inertia)\n",
    "\n",
    "#plt.scatter(range(2,11), inertia[1:])\n",
    "#plt.show()\n",
    "\n",
    "kmeans = KMeans(init='k-means++', n_init='auto', max_iter=100, random_state=42)\n",
    "visualizer = KElbowVisualizer(kmeans, k=(4,12))\n",
    "\n",
    "visualizer.fit(US_dataACP)\n",
    "visualizer.show()"
   ]
  },
  {
   "cell_type": "code",
   "execution_count": null,
   "id": "1080acb0-7655-4f9e-a192-f6cd8553ce1c",
   "metadata": {
    "scrolled": true
   },
   "outputs": [],
   "source": [
    "K=9\n",
    "kmeans_pca = KMeans(n_clusters = K, init='k-means++', n_init='auto')\n",
    "clusters_pca = kmeans_pca.fit_predict(US_data_reduced)\n",
    "\n",
    "cmap = plt.get_cmap('Set1',K)\n",
    "plt.bar(*np.unique(clusters_pca,return_counts=True),color=cmap.colors)\n",
    "plt.ylabel(\"Frequency\")\n",
    "plt.show()"
   ]
  },
  {
   "cell_type": "code",
   "execution_count": null,
   "id": "de127320-033d-4dff-a005-f8579e448120",
   "metadata": {},
   "outputs": [],
   "source": [
    "print(np.shape(US_data))\n",
    "print(len(fips_data), len(clusters_pca))\n",
    "US_data ['clusters'] = clusters_pca"
   ]
  },
  {
   "cell_type": "code",
   "execution_count": null,
   "id": "31e2330c-4c97-4976-8ebb-08d5c3ff1692",
   "metadata": {},
   "outputs": [],
   "source": [
    "colorscale = [cmap(i) for i in range(K)]\n",
    "colorscale = [mcol.to_hex(cmap(i)) for i in range(K)]\n",
    "fips = US_data ['FIPS'].tolist()\n",
    "values = clusters_pca.tolist()\n",
    "\n",
    "US_data['clusters'] = list(map(str, values))\n",
    "\n",
    "fig = px.choropleth_map(US_data, geojson=counties, locations='FIPS', color='clusters',\n",
    "                        color_discrete_sequence=colorscale,\n",
    "                        map_style=\"carto-positron\",\n",
    "                        zoom=3, \n",
    "                        center = {\"lat\": 37.0902, \"lon\": -95.7129},\n",
    "                        opacity=1,\n",
    "                        title='répartition des clusters géographiquement aux USA')\n",
    "fig.update_traces(marker_line_width=0)\n",
    "fig.update_layout(margin={\"r\":0,\"t\":0,\"l\":0,\"b\":0})\n",
    "fig.show()\n",
    "US_data = US_data.drop(columns=[\"clusters\"])"
   ]
  },
  {
   "cell_type": "code",
   "execution_count": null,
   "id": "46e1843e-a327-4ba6-b3aa-7f25d6558566",
   "metadata": {},
   "outputs": [],
   "source": [
    "logD = np.log(np.array(US_data[\"Density\"]))\n",
    "\n",
    "US_data['logDensity'] = logD\n",
    "\n",
    "m = np.min(US_data['logDensity'])\n",
    "M = np.max(US_data['logDensity'])\n",
    "\n",
    "colorscale = [\n",
    "    [0.0, \"rgb(255,255,255)\"],\n",
    "    [0.1, \"rgb(255,230,230)\"],\n",
    "    [0.3, \"rgb(255,153,153)\"],\n",
    "    [0.5, \"rgb(255,102,102)\"],\n",
    "    [0.7, \"rgb(255,51,51)\"],\n",
    "    [0.9, \"rgb(204,0,0)\"],\n",
    "    [1.0, \"rgb(153,0,0)\"]\n",
    "]\n",
    "\n",
    "\n",
    "fig = px.choropleth_map(US_data, geojson=counties, locations='FIPS', color='logDensity',\n",
    "                           color_continuous_scale=colorscale,\n",
    "                           range_color=(m, M),\n",
    "                           map_style=\"carto-positron\",\n",
    "                           zoom=3, center = {\"lat\": 37.0902, \"lon\": -95.7129},\n",
    "                           opacity=1,\n",
    "                           labels={'Density':'Counties log Density'}\n",
    "                          )\n",
    "fig.update_traces(marker_line_width=0)\n",
    "fig.update_layout(margin={\"r\":0,\"t\":0,\"l\":0,\"b\":0})\n",
    "fig.show()\n",
    "US_data = US_data.drop(columns=[\"logDensity\"])"
   ]
  },
  {
   "cell_type": "code",
   "execution_count": null,
   "id": "f563700a-6a87-4681-956e-750089ed5a1b",
   "metadata": {},
   "outputs": [],
   "source": [
    "colorscale = [mcol.to_hex('red'),mcol.to_hex('blue')]\n",
    "\n",
    "\n",
    "fig = px.choropleth_map(US_data, geojson=counties, locations='FIPS', color='Parti',\n",
    "                           color_discrete_sequence=colorscale,\n",
    "                           map_style=\"carto-positron\",\n",
    "                           zoom=3, center = {\"lat\": 37.0902, \"lon\": -95.7129},\n",
    "                           opacity=0.8,\n",
    "                           labels={'répartition géogrpahique du parti majoritaire aux élections'}\n",
    "                          )\n",
    "fig.update_traces(marker_line_width=0)\n",
    "fig.update_layout(margin={\"r\":0,\"t\":0,\"l\":0,\"b\":0})\n",
    "fig.show()"
   ]
  },
  {
   "cell_type": "code",
   "execution_count": null,
   "id": "33f66e7b-57e5-445d-a9eb-ebf18ea9cb58",
   "metadata": {},
   "outputs": [],
   "source": [
    "#colors: https://plotly.com/python/builtin-colorscales/\n",
    "#les plages de couleur cmap sont bcp mieux mais j'ai la flm de convertir, on peut le faire si besoin"
   ]
  },
  {
   "cell_type": "code",
   "execution_count": null,
   "id": "5b67d578-7e9f-4dc0-89a0-efba8d5dc56d",
   "metadata": {},
   "outputs": [],
   "source": [
    "fig = px.choropleth_map(US_data, geojson=counties, locations='FIPS', color='Republican vote %',\n",
    "                           color_continuous_scale=\"balance\",\n",
    "                           range_color=(0, 100),\n",
    "                           map_style=\"carto-positron\",\n",
    "                           zoom=3, center = {\"lat\": 37.0902, \"lon\": -95.7129},\n",
    "                           opacity=1,\n",
    "                           labels={'répartition géographique du pourcentage de vote aux élections'}\n",
    "                          )\n",
    "fig.update_traces(marker_line_width=0)\n",
    "fig.update_layout(margin={\"r\":0,\"t\":0,\"l\":0,\"b\":0})\n",
    "fig.show()"
   ]
  },
  {
   "cell_type": "code",
   "execution_count": null,
   "id": "f6d3a9f0-197f-4879-9b55-4a3e22f1caad",
   "metadata": {},
   "outputs": [],
   "source": []
  }
 ],
 "metadata": {
  "kernelspec": {
   "display_name": "Python [conda env:base] *",
   "language": "python",
   "name": "conda-base-py"
  },
  "language_info": {
   "codemirror_mode": {
    "name": "ipython",
    "version": 3
   },
   "file_extension": ".py",
   "mimetype": "text/x-python",
   "name": "python",
   "nbconvert_exporter": "python",
   "pygments_lexer": "ipython3",
   "version": "3.12.7"
  }
 },
 "nbformat": 4,
 "nbformat_minor": 5
}
